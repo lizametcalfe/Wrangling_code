{
 "cells": [
  {
   "cell_type": "code",
   "execution_count": 2,
   "metadata": {
    "collapsed": false
   },
   "outputs": [],
   "source": [
    "import pandas as pd\n",
    "#from unidecode import unidecode\n",
    "import re\n",
    "\n",
    "from re import sub\n",
    "\n",
    "pd.options.display.max_colwidth = 100000\n",
    "\n",
    "import sys\n",
    "reload(sys)\n",
    "sys.setdefaultencoding('utf-8')"
   ]
  },
  {
   "cell_type": "code",
   "execution_count": 7,
   "metadata": {
    "collapsed": true
   },
   "outputs": [],
   "source": [
    "A = pd.read_csv('.../data.csv')"
   ]
  },
  {
   "cell_type": "code",
   "execution_count": 8,
   "metadata": {
    "collapsed": false
   },
   "outputs": [],
   "source": [
    "#B = pd.read_csv('indeed.csv')"
   ]
  },
  {
   "cell_type": "markdown",
   "metadata": {},
   "source": [
    "# All features "
   ]
  },
  {
   "cell_type": "code",
   "execution_count": 9,
   "metadata": {
    "collapsed": false
   },
   "outputs": [],
   "source": [
    "lister = list(A.columns)"
   ]
  },
  {
   "cell_type": "code",
   "execution_count": 10,
   "metadata": {
    "collapsed": false
   },
   "outputs": [
    {
     "data": {
      "text/plain": [
       "['Unnamed: 0',\n",
       " 'Extracted_On_Time_Stamp',\n",
       " 'Company',\n",
       " 'Id',\n",
       " 'Location',\n",
       " 'website',\n",
       " 'Job_description',\n",
       " 'Jobtitle',\n",
       " 'Job_description_min']"
      ]
     },
     "execution_count": 10,
     "metadata": {},
     "output_type": "execute_result"
    }
   ],
   "source": [
    "lister"
   ]
  },
  {
   "cell_type": "markdown",
   "metadata": {},
   "source": [
    "# Subsetting the features "
   ]
  },
  {
   "cell_type": "code",
   "execution_count": 122,
   "metadata": {
    "collapsed": false
   },
   "outputs": [],
   "source": [
    "#subset to only keep the features that are needed \n",
    "A = A[['jobtitle',\n",
    " 'Location content',\n",
    " 'Salary value',\n",
    " 'Permanent link',\n",
    " 'Dateposted value',\n",
    " 'Jobintro value',]]"
   ]
  },
  {
   "cell_type": "code",
   "execution_count": 123,
   "metadata": {
    "collapsed": false
   },
   "outputs": [
    {
     "data": {
      "text/plain": [
       "Index([u'jobtitle', u'Location content', u'Salary value', u'Permanent link',\n",
       "       u'Dateposted value', u'Jobintro value'],\n",
       "      dtype='object')"
      ]
     },
     "execution_count": 123,
     "metadata": {},
     "output_type": "execute_result"
    }
   ],
   "source": [
    "A.columns "
   ]
  },
  {
   "cell_type": "code",
   "execution_count": 11,
   "metadata": {
    "collapsed": false
   },
   "outputs": [
    {
     "data": {
      "text/html": [
       "<div>\n",
       "<table border=\"1\" class=\"dataframe\">\n",
       "  <thead>\n",
       "    <tr style=\"text-align: right;\">\n",
       "      <th></th>\n",
       "      <th>Unnamed: 0</th>\n",
       "      <th>Extracted_On_Time_Stamp</th>\n",
       "      <th>Company</th>\n",
       "      <th>Id</th>\n",
       "      <th>Location</th>\n",
       "      <th>website</th>\n",
       "      <th>Job_description</th>\n",
       "      <th>Jobtitle</th>\n",
       "      <th>Job_description_min</th>\n",
       "    </tr>\n",
       "  </thead>\n",
       "  <tbody>\n",
       "    <tr>\n",
       "      <th>0</th>\n",
       "      <td>0</td>\n",
       "      <td>20160721 0</td>\n",
       "      <td>hays</td>\n",
       "      <td>0</td>\n",
       "      <td>['city', 'the', 'central', 'london']</td>\n",
       "      <td>adzuna</td>\n",
       "      <td>job search senior java developer equity front office tier one investment bank london your new company a world leading tier one investment bank with a constant growing presence in the uk and world wide your new role this role is for a senior java developer to work on the server side pricing and reporting frameworks within the equities team this is a core java role writing codes within a concurrent low latency high volume transaction environment in real time what you ll need to succeed</td>\n",
       "      <td>data centre manager</td>\n",
       "      <td>job search senior java developer equity front office tier one investment bank london your new company a world leading tier one investment bank with a constant growing presence in the uk and world wide your new role this role is for a senior java developer to work on the server side pricing and reporting frameworks within the equities team this is a core java role writing codes within a concurrent low latency high volume transaction environment in real time what you ll need to succeed</td>\n",
       "    </tr>\n",
       "    <tr>\n",
       "      <th>1</th>\n",
       "      <td>1</td>\n",
       "      <td>20160721 0</td>\n",
       "      <td>outsource uk</td>\n",
       "      <td>1</td>\n",
       "      <td>['wiltshire', 'swindon']</td>\n",
       "      <td>adzuna</td>\n",
       "      <td>bored of being an office based pen tester ready to consult with customers and make a difference to their cyber security practise this is the role for you cyber security consultant penetration tester check team leader swindon or london vulnerability nessus burp kali linux metasploit a penetration tester with customer facing cyber security skills is required to join a consultancy you can work out of london or swindon and will be comfortable with uk travel you must be eligible for security</td>\n",
       "      <td>data centre manager</td>\n",
       "      <td>bored of being an office based pen tester ready to consult with customers and make a difference to their cyber security practise this is the role for you cyber security consultant penetration tester check team leader swindon or london vulnerability nessus burp kali linux metasploit a penetration tester with customer facing cyber security skills is required to join a consultancy you can work out of london or swindon and will be comfortable with uk travel you must be eligible for security</td>\n",
       "    </tr>\n",
       "    <tr>\n",
       "      <th>2</th>\n",
       "      <td>2</td>\n",
       "      <td>20160721 0</td>\n",
       "      <td>hays</td>\n",
       "      <td>2</td>\n",
       "      <td>['edinburgh']</td>\n",
       "      <td>adzuna</td>\n",
       "      <td>software engineer java web international digital consultancy edinburgh city centre 35 50k your new company headquartered in edinburgh city centre this expanding digital consultancy provides a full range of web solutions and services to an international client base they have a talented team of more than 40 software and digital experts covering a wide range of technology including php java and c your new role you will work closely on a number of client projects focused primarily on b</td>\n",
       "      <td>data centre manager</td>\n",
       "      <td>software engineer java web international digital consultancy edinburgh city centre 35 50k your new company headquartered in edinburgh city centre this expanding digital consultancy provides a full range of web solutions and services to an international client base they have a talented team of more than 40 software and digital experts covering a wide range of technology including php java and c your new role you will work closely on a number of client projects focused primarily on b</td>\n",
       "    </tr>\n",
       "  </tbody>\n",
       "</table>\n",
       "</div>"
      ],
      "text/plain": [
       "   Unnamed: 0 Extracted_On_Time_Stamp       Company  Id  \\\n",
       "0           0              20160721 0          hays   0   \n",
       "1           1              20160721 0  outsource uk   1   \n",
       "2           2              20160721 0          hays   2   \n",
       "\n",
       "                               Location website  \\\n",
       "0  ['city', 'the', 'central', 'london']  adzuna   \n",
       "1              ['wiltshire', 'swindon']  adzuna   \n",
       "2                         ['edinburgh']  adzuna   \n",
       "\n",
       "                                                                                                                                                                                                                                                                                                                                                                                                                                                                                               Job_description  \\\n",
       "0     job search senior java developer equity front office tier one investment bank london your new company a world leading tier one investment bank with a constant growing presence in the uk and world wide your new role this role is for a senior java developer to work on the server side pricing and reporting frameworks within the equities team this is a core java role writing codes within a concurrent low latency high volume transaction environment in real time what you ll need to succeed   \n",
       "1  bored of being an office based pen tester ready to consult with customers and make a difference to their cyber security practise this is the role for you cyber security consultant penetration tester check team leader swindon or london vulnerability nessus burp kali linux metasploit a penetration tester with customer facing cyber security skills is required to join a consultancy you can work out of london or swindon and will be comfortable with uk travel you must be eligible for security   \n",
       "2       software engineer java web international digital consultancy edinburgh city centre 35 50k your new company headquartered in edinburgh city centre this expanding digital consultancy provides a full range of web solutions and services to an international client base they have a talented team of more than 40 software and digital experts covering a wide range of technology including php java and c your new role you will work closely on a number of client projects focused primarily on b   \n",
       "\n",
       "              Jobtitle  \\\n",
       "0  data centre manager   \n",
       "1  data centre manager   \n",
       "2  data centre manager   \n",
       "\n",
       "                                                                                                                                                                                                                                                                                                                                                                                                                                                                                           Job_description_min  \n",
       "0     job search senior java developer equity front office tier one investment bank london your new company a world leading tier one investment bank with a constant growing presence in the uk and world wide your new role this role is for a senior java developer to work on the server side pricing and reporting frameworks within the equities team this is a core java role writing codes within a concurrent low latency high volume transaction environment in real time what you ll need to succeed  \n",
       "1  bored of being an office based pen tester ready to consult with customers and make a difference to their cyber security practise this is the role for you cyber security consultant penetration tester check team leader swindon or london vulnerability nessus burp kali linux metasploit a penetration tester with customer facing cyber security skills is required to join a consultancy you can work out of london or swindon and will be comfortable with uk travel you must be eligible for security  \n",
       "2       software engineer java web international digital consultancy edinburgh city centre 35 50k your new company headquartered in edinburgh city centre this expanding digital consultancy provides a full range of web solutions and services to an international client base they have a talented team of more than 40 software and digital experts covering a wide range of technology including php java and c your new role you will work closely on a number of client projects focused primarily on b  "
      ]
     },
     "execution_count": 11,
     "metadata": {},
     "output_type": "execute_result"
    }
   ],
   "source": [
    "A.head(3)"
   ]
  },
  {
   "cell_type": "markdown",
   "metadata": {},
   "source": [
    "# Wrangling the features  "
   ]
  },
  {
   "cell_type": "code",
   "execution_count": 125,
   "metadata": {
    "collapsed": true
   },
   "outputs": [],
   "source": [
    "#renaming the features \n",
    "A.columns = ['Jobtitle', 'Location', 'Salary','Company','Date_posted','Job_description']"
   ]
  },
  {
   "cell_type": "code",
   "execution_count": 126,
   "metadata": {
    "collapsed": false
   },
   "outputs": [
    {
     "data": {
      "text/html": [
       "<div>\n",
       "<table border=\"1\" class=\"dataframe\">\n",
       "  <thead>\n",
       "    <tr style=\"text-align: right;\">\n",
       "      <th></th>\n",
       "      <th>Jobtitle</th>\n",
       "      <th>Location</th>\n",
       "      <th>Salary</th>\n",
       "      <th>Company</th>\n",
       "      <th>Date_posted</th>\n",
       "      <th>Job_description</th>\n",
       "    </tr>\n",
       "  </thead>\n",
       "  <tbody>\n",
       "    <tr>\n",
       "      <th>0</th>\n",
       "      <td>IT Support Technician - Windows OS, IT, Microsoft - Logistics &amp; Freight - Horsham</td>\n",
       "      <td>Horsham, West Sussex; Horsham, West Sussex</td>\n",
       "      <td>?20000 - ?22000 Per Annum</td>\n",
       "      <td>Additional Resources Ltd</td>\n",
       "      <td>Yesterday</td>\n",
       "      <td>IT Support Technician - Logistics &amp; Freight - Horsham Salary: ?20-22k Key words: IT ? The role: The IT Support Technician must be able to communicate with staff at all levels ? Keeping up to date on developments within the IT Department All other reasonable ?; IT Support Technician - Logistics &amp; Freight - Horsham Salary: ?20-22k Key words: IT ?</td>\n",
       "    </tr>\n",
       "    <tr>\n",
       "      <th>1</th>\n",
       "      <td>IT-Project Support</td>\n",
       "      <td>CV1, Coventry; CV1, Coventry</td>\n",
       "      <td>?30000 - ?32000 per annum</td>\n",
       "      <td>Hamlin Knight - Coventry</td>\n",
       "      <td>Yesterday</td>\n",
       "      <td>? Knight is currently recruiting for an experienced IT-Project Support for a market leading ? IT-Project Support To provide IT-System administration, support and local development. Job ?; ? Knight is currently recruiting for an experienced IT-Project Support for a market leading ?</td>\n",
       "    </tr>\n",
       "    <tr>\n",
       "      <th>2</th>\n",
       "      <td>Computing Graduates - IT Support</td>\n",
       "      <td>GU21, Woking; GU21, Woking</td>\n",
       "      <td>?20000 - ?27000 per annum</td>\n",
       "      <td>Informatiq</td>\n",
       "      <td>Posted 3 days ago</td>\n",
       "      <td>Computing Graduates - IT Support An innovative market leader are looking to find a ? Graduate IT Support - Ideal Candidate - IT related degree - Excellent communication skills ? for, are looking for a new challenge within IT Support, and are keen to find out more, ?; Computing Graduates - IT Support An innovative market leader are looking to find a ?</td>\n",
       "    </tr>\n",
       "  </tbody>\n",
       "</table>\n",
       "</div>"
      ],
      "text/plain": [
       "                                                                            Jobtitle  \\\n",
       "0  IT Support Technician - Windows OS, IT, Microsoft - Logistics & Freight - Horsham   \n",
       "1                                                                 IT-Project Support   \n",
       "2                                                   Computing Graduates - IT Support   \n",
       "\n",
       "                                     Location                     Salary  \\\n",
       "0  Horsham, West Sussex; Horsham, West Sussex  ?20000 - ?22000 Per Annum   \n",
       "1                CV1, Coventry; CV1, Coventry  ?30000 - ?32000 per annum   \n",
       "2                  GU21, Woking; GU21, Woking  ?20000 - ?27000 per annum   \n",
       "\n",
       "                    Company        Date_posted  \\\n",
       "0  Additional Resources Ltd          Yesterday   \n",
       "1  Hamlin Knight - Coventry          Yesterday   \n",
       "2                Informatiq  Posted 3 days ago   \n",
       "\n",
       "                                                                                                                                                                                                                                                                                                                                                    Job_description  \n",
       "0        IT Support Technician - Logistics & Freight - Horsham Salary: ?20-22k Key words: IT ? The role: The IT Support Technician must be able to communicate with staff at all levels ? Keeping up to date on developments within the IT Department All other reasonable ?; IT Support Technician - Logistics & Freight - Horsham Salary: ?20-22k Key words: IT ?  \n",
       "1                                                                         ? Knight is currently recruiting for an experienced IT-Project Support for a market leading ? IT-Project Support To provide IT-System administration, support and local development. Job ?; ? Knight is currently recruiting for an experienced IT-Project Support for a market leading ?  \n",
       "2  Computing Graduates - IT Support An innovative market leader are looking to find a ? Graduate IT Support - Ideal Candidate - IT related degree - Excellent communication skills ? for, are looking for a new challenge within IT Support, and are keen to find out more, ?; Computing Graduates - IT Support An innovative market leader are looking to find a ?  "
      ]
     },
     "execution_count": 126,
     "metadata": {},
     "output_type": "execute_result"
    }
   ],
   "source": [
    "A.head(3)"
   ]
  },
  {
   "cell_type": "markdown",
   "metadata": {},
   "source": [
    "#Wrangling functions"
   ]
  },
  {
   "cell_type": "code",
   "execution_count": 127,
   "metadata": {
    "collapsed": true
   },
   "outputs": [],
   "source": [
    "#remove non ascii characters \n",
    "def remove_non_ascii(text):\n",
    "    return re.sub(r'[^\\x00-\\x7F]+',' ', text)\n",
    "\n",
    "#strip out the numbers \n",
    "def stripno(string):\n",
    "    return re.sub(r'\\w*\\d\\w*', '', str(string)).strip()\n",
    "\n",
    "#function that only retains letters and numbers (output is a string)\n",
    "def preProcess(column):\n",
    "    \"\"\"\n",
    "    Do a little bit of data cleaning with the help of Unidecode and Regex.\n",
    "    Things like casing, extra spaces, quotes and new lines can be ignored.\n",
    "    This is a function which standardises the data \n",
    "    \"\"\"\n",
    "    try : # python 2/3 string differences\n",
    "        column = str(column)\n",
    "    except AttributeError:\n",
    "        pass\n",
    "    #column = unidecode(column)\n",
    "    #column = re.sub('  +', ' ', column)\n",
    "    #column = re.sub('\\n', ' ', column)\n",
    "    column = re.sub('[^a-zA-Z0-9]',' ', column)\n",
    "    column = column.strip().strip('\"').strip(\" \").lower().strip()\n",
    "    # If data is missing, indicate that by setting the value to `None`\n",
    "    if not column:\n",
    "        column = None\n",
    "    return column"
   ]
  },
  {
   "cell_type": "code",
   "execution_count": 132,
   "metadata": {
    "collapsed": true
   },
   "outputs": [],
   "source": [
    "B = A"
   ]
  },
  {
   "cell_type": "markdown",
   "metadata": {},
   "source": [
    "# Removing special characters (retaining only letters and numbers)"
   ]
  },
  {
   "cell_type": "code",
   "execution_count": 133,
   "metadata": {
    "collapsed": false
   },
   "outputs": [],
   "source": [
    "#converts to string to a set of words, removing anything which is not a letter or number \n",
    "#then coverting back to a string removing unwanted characters \n",
    "for i in set(B.columns):\n",
    "    B[i] = B[i].map(lambda x: preProcess(x)).map(lambda x: list(x.split()) if x else None)\n",
    "    B[i] = B[i].map(lambda x: ' '.join(x))\n",
    "\n"
   ]
  },
  {
   "cell_type": "code",
   "execution_count": 134,
   "metadata": {
    "collapsed": true
   },
   "outputs": [],
   "source": [
    "#removing duplication from location (using sets)\n",
    "B[\"Location\"] = B[\"Location\"].map(lambda x: preProcess(x)).map(lambda x: list(set(x.split())) if x else None)\n",
    "B[\"Location\"] = B[\"Location\"].map(lambda x: ' '.join(x))"
   ]
  },
  {
   "cell_type": "code",
   "execution_count": 135,
   "metadata": {
    "collapsed": false
   },
   "outputs": [
    {
     "data": {
      "text/html": [
       "<div>\n",
       "<table border=\"1\" class=\"dataframe\">\n",
       "  <thead>\n",
       "    <tr style=\"text-align: right;\">\n",
       "      <th></th>\n",
       "      <th>Jobtitle</th>\n",
       "      <th>Location</th>\n",
       "      <th>Salary</th>\n",
       "      <th>Company</th>\n",
       "      <th>Date_posted</th>\n",
       "      <th>Job_description</th>\n",
       "    </tr>\n",
       "  </thead>\n",
       "  <tbody>\n",
       "    <tr>\n",
       "      <th>0</th>\n",
       "      <td>it support technician windows os it microsoft logistics freight horsham</td>\n",
       "      <td>west sussex horsham</td>\n",
       "      <td>20000 22000 per annum</td>\n",
       "      <td>additional resources ltd</td>\n",
       "      <td>yesterday</td>\n",
       "      <td>it support technician logistics freight horsham salary 20 22k key words it the role the it support technician must be able to communicate with staff at all levels keeping up to date on developments within the it department all other reasonable it support technician logistics freight horsham salary 20 22k key words it</td>\n",
       "    </tr>\n",
       "    <tr>\n",
       "      <th>1</th>\n",
       "      <td>it project support</td>\n",
       "      <td>coventry cv1</td>\n",
       "      <td>30000 32000 per annum</td>\n",
       "      <td>hamlin knight coventry</td>\n",
       "      <td>yesterday</td>\n",
       "      <td>knight is currently recruiting for an experienced it project support for a market leading it project support to provide it system administration support and local development job knight is currently recruiting for an experienced it project support for a market leading</td>\n",
       "    </tr>\n",
       "    <tr>\n",
       "      <th>2</th>\n",
       "      <td>computing graduates it support</td>\n",
       "      <td>gu21 woking</td>\n",
       "      <td>20000 27000 per annum</td>\n",
       "      <td>informatiq</td>\n",
       "      <td>posted 3 days ago</td>\n",
       "      <td>computing graduates it support an innovative market leader are looking to find a graduate it support ideal candidate it related degree excellent communication skills for are looking for a new challenge within it support and are keen to find out more computing graduates it support an innovative market leader are looking to find a</td>\n",
       "    </tr>\n",
       "  </tbody>\n",
       "</table>\n",
       "</div>"
      ],
      "text/plain": [
       "                                                                  Jobtitle  \\\n",
       "0  it support technician windows os it microsoft logistics freight horsham   \n",
       "1                                                       it project support   \n",
       "2                                           computing graduates it support   \n",
       "\n",
       "              Location                 Salary                   Company  \\\n",
       "0  west sussex horsham  20000 22000 per annum  additional resources ltd   \n",
       "1         coventry cv1  30000 32000 per annum    hamlin knight coventry   \n",
       "2          gu21 woking  20000 27000 per annum                informatiq   \n",
       "\n",
       "         Date_posted  \\\n",
       "0          yesterday   \n",
       "1          yesterday   \n",
       "2  posted 3 days ago   \n",
       "\n",
       "                                                                                                                                                                                                                                                                                                                              Job_description  \n",
       "0              it support technician logistics freight horsham salary 20 22k key words it the role the it support technician must be able to communicate with staff at all levels keeping up to date on developments within the it department all other reasonable it support technician logistics freight horsham salary 20 22k key words it  \n",
       "1                                                                knight is currently recruiting for an experienced it project support for a market leading it project support to provide it system administration support and local development job knight is currently recruiting for an experienced it project support for a market leading  \n",
       "2  computing graduates it support an innovative market leader are looking to find a graduate it support ideal candidate it related degree excellent communication skills for are looking for a new challenge within it support and are keen to find out more computing graduates it support an innovative market leader are looking to find a  "
      ]
     },
     "execution_count": 135,
     "metadata": {},
     "output_type": "execute_result"
    }
   ],
   "source": [
    "B.head(3)"
   ]
  },
  {
   "cell_type": "markdown",
   "metadata": {},
   "source": [
    "# Removal of location names from Job Description "
   ]
  },
  {
   "cell_type": "code",
   "execution_count": 136,
   "metadata": {
    "collapsed": false
   },
   "outputs": [],
   "source": [
    "#removal of location names from job description\n",
    "#g(f(x)) g => y => x and is checked against a set of words (apply is to iterate across the set of columns)\n",
    "B[\"Job_description\"] = B.apply(lambda x: filter(lambda e: not e in set(str(x[\"Location\"]).split()), str(x[\"Job_description\"]).split()),axis=1)\n",
    "B[\"Jobtitle\"] = B.apply(lambda x: filter(lambda e: not e in set(str(x[\"Location\"]).split()), str(x[\"Jobtitle\"]).split()),axis=1)\n",
    "#converting lists to strings \n",
    "B[\"Jobtitle\"] = B[\"Jobtitle\"].map(lambda x: ' '.join(x))\n",
    "B[\"Job_description\"] = B[\"Job_description\"].map(lambda x: ' '.join(x))"
   ]
  },
  {
   "cell_type": "code",
   "execution_count": 137,
   "metadata": {
    "collapsed": false
   },
   "outputs": [
    {
     "data": {
      "text/html": [
       "<div>\n",
       "<table border=\"1\" class=\"dataframe\">\n",
       "  <thead>\n",
       "    <tr style=\"text-align: right;\">\n",
       "      <th></th>\n",
       "      <th>Jobtitle</th>\n",
       "      <th>Location</th>\n",
       "      <th>Salary</th>\n",
       "      <th>Company</th>\n",
       "      <th>Date_posted</th>\n",
       "      <th>Job_description</th>\n",
       "    </tr>\n",
       "  </thead>\n",
       "  <tbody>\n",
       "    <tr>\n",
       "      <th>0</th>\n",
       "      <td>it support technician windows os it microsoft logistics freight</td>\n",
       "      <td>west sussex horsham</td>\n",
       "      <td>20000 22000 per annum</td>\n",
       "      <td>additional resources ltd</td>\n",
       "      <td>yesterday</td>\n",
       "      <td>it support technician logistics freight salary 20 22k key words it the role the it support technician must be able to communicate with staff at all levels keeping up to date on developments within the it department all other reasonable it support technician logistics freight salary 20 22k key words it</td>\n",
       "    </tr>\n",
       "    <tr>\n",
       "      <th>1</th>\n",
       "      <td>it project support</td>\n",
       "      <td>coventry cv1</td>\n",
       "      <td>30000 32000 per annum</td>\n",
       "      <td>hamlin knight coventry</td>\n",
       "      <td>yesterday</td>\n",
       "      <td>knight is currently recruiting for an experienced it project support for a market leading it project support to provide it system administration support and local development job knight is currently recruiting for an experienced it project support for a market leading</td>\n",
       "    </tr>\n",
       "    <tr>\n",
       "      <th>2</th>\n",
       "      <td>computing graduates it support</td>\n",
       "      <td>gu21 woking</td>\n",
       "      <td>20000 27000 per annum</td>\n",
       "      <td>informatiq</td>\n",
       "      <td>posted 3 days ago</td>\n",
       "      <td>computing graduates it support an innovative market leader are looking to find a graduate it support ideal candidate it related degree excellent communication skills for are looking for a new challenge within it support and are keen to find out more computing graduates it support an innovative market leader are looking to find a</td>\n",
       "    </tr>\n",
       "  </tbody>\n",
       "</table>\n",
       "</div>"
      ],
      "text/plain": [
       "                                                          Jobtitle  \\\n",
       "0  it support technician windows os it microsoft logistics freight   \n",
       "1                                               it project support   \n",
       "2                                   computing graduates it support   \n",
       "\n",
       "              Location                 Salary                   Company  \\\n",
       "0  west sussex horsham  20000 22000 per annum  additional resources ltd   \n",
       "1         coventry cv1  30000 32000 per annum    hamlin knight coventry   \n",
       "2          gu21 woking  20000 27000 per annum                informatiq   \n",
       "\n",
       "         Date_posted  \\\n",
       "0          yesterday   \n",
       "1          yesterday   \n",
       "2  posted 3 days ago   \n",
       "\n",
       "                                                                                                                                                                                                                                                                                                                              Job_description  \n",
       "0                              it support technician logistics freight salary 20 22k key words it the role the it support technician must be able to communicate with staff at all levels keeping up to date on developments within the it department all other reasonable it support technician logistics freight salary 20 22k key words it  \n",
       "1                                                                knight is currently recruiting for an experienced it project support for a market leading it project support to provide it system administration support and local development job knight is currently recruiting for an experienced it project support for a market leading  \n",
       "2  computing graduates it support an innovative market leader are looking to find a graduate it support ideal candidate it related degree excellent communication skills for are looking for a new challenge within it support and are keen to find out more computing graduates it support an innovative market leader are looking to find a  "
      ]
     },
     "execution_count": 137,
     "metadata": {},
     "output_type": "execute_result"
    }
   ],
   "source": [
    "B.head(3)"
   ]
  },
  {
   "cell_type": "markdown",
   "metadata": {},
   "source": [
    "# Remove stop words from and numbers from Job Description"
   ]
  },
  {
   "cell_type": "code",
   "execution_count": 140,
   "metadata": {
    "collapsed": false
   },
   "outputs": [],
   "source": [
    "#download file Sset from Gmail and read in as ab\n",
    "\n",
    "#set one containing stop words from all of the google words (google searches)\n",
    "s1 = pd.read_csv(\"Sset.csv\")\n",
    "#set two containing stop words from (plus extra words) NLTK http://www.nltk.org/\n",
    "s = pd.read_csv(\"Sset_min.csv\")\n",
    "s1 = s1.add(\"b\")\n",
    "s1 =s1.add(\"a\")\n",
    "\n",
    "\n",
    "s.columns=[\"Un\",\"col\"]\n",
    "s = set(s[\"col\"])\n",
    "\n",
    "s1.columns=[\"Un\",\"col\"]\n",
    "s1 = set(s1[\"col\"])\n",
    "\n",
    "#removing stop words using a list of google search words \n",
    "B[\"Job_description_min\"] = B[\"Job_description\"].apply(lambda x: filter(lambda w: not w in s1,x.split()))\n",
    "B[\"Job_description_min\"] = B[\"Job_description_min\"].map(lambda x: ' '.join(x))\n",
    "#removing stop words using a list from python's NLTK (natual language processing library)\n",
    "#B[\"Job_description_min1\"] = B[\"Job_description\"].apply(lambda x: filter(lambda w: not w in s,x.split()))\n",
    "#B[\"Job_description_min1\"] = B[\"Job_description_min1\"].map(lambda x: ' '.join(x))\n",
    "# removing numbers from the job description \n",
    "B[\"Job_description_min\"] = B[\"Job_description_min\"].apply(lambda x: stripno(x))\n",
    "#B[\"Job_description_min1\"] = B[\"Job_description_min1\"].apply(lambda x: stripno(x))\n",
    "B[\"Jobtitle_min\"] = B[\"Jobtitle\"].apply(lambda x: stripno(x))"
   ]
  },
  {
   "cell_type": "code",
   "execution_count": null,
   "metadata": {
    "collapsed": true
   },
   "outputs": [],
   "source": [
    "B[\"Jobdes_mins\"]"
   ]
  },
  {
   "cell_type": "code",
   "execution_count": null,
   "metadata": {
    "collapsed": true
   },
   "outputs": [],
   "source": [
    "B.to_csv(\"/home/mint/my-data/Job_vacancies/De-duplication/data/data_final.csv\")"
   ]
  },
  {
   "cell_type": "code",
   "execution_count": 141,
   "metadata": {
    "collapsed": false
   },
   "outputs": [
    {
     "data": {
      "text/html": [
       "<div>\n",
       "<table border=\"1\" class=\"dataframe\">\n",
       "  <thead>\n",
       "    <tr style=\"text-align: right;\">\n",
       "      <th></th>\n",
       "      <th>Jobtitle</th>\n",
       "      <th>Location</th>\n",
       "      <th>Salary</th>\n",
       "      <th>Company</th>\n",
       "      <th>Date_posted</th>\n",
       "      <th>Job_description</th>\n",
       "      <th>Job_description_min</th>\n",
       "      <th>Jobtitle_min</th>\n",
       "    </tr>\n",
       "  </thead>\n",
       "  <tbody>\n",
       "    <tr>\n",
       "      <th>0</th>\n",
       "      <td>it support technician windows os it microsoft logistics freight</td>\n",
       "      <td>west sussex horsham</td>\n",
       "      <td>20000 22000 per annum</td>\n",
       "      <td>additional resources ltd</td>\n",
       "      <td>yesterday</td>\n",
       "      <td>it support technician logistics freight salary 20 22k key words it the role the it support technician must be able to communicate with staff at all levels keeping up to date on developments within the it department all other reasonable it support technician logistics freight salary 20 22k key words it</td>\n",
       "      <td>technician logistics freight   key words technician must communicate staff levels keeping date developments department reasonable technician logistics freight   key words</td>\n",
       "      <td>it support technician windows os it microsoft logistics freight</td>\n",
       "    </tr>\n",
       "    <tr>\n",
       "      <th>1</th>\n",
       "      <td>it project support</td>\n",
       "      <td>coventry cv1</td>\n",
       "      <td>30000 32000 per annum</td>\n",
       "      <td>hamlin knight coventry</td>\n",
       "      <td>yesterday</td>\n",
       "      <td>knight is currently recruiting for an experienced it project support for a market leading it project support to provide it system administration support and local development job knight is currently recruiting for an experienced it project support for a market leading</td>\n",
       "      <td>knight market system administration local development knight market</td>\n",
       "      <td>it project support</td>\n",
       "    </tr>\n",
       "    <tr>\n",
       "      <th>2</th>\n",
       "      <td>computing graduates it support</td>\n",
       "      <td>gu21 woking</td>\n",
       "      <td>20000 27000 per annum</td>\n",
       "      <td>informatiq</td>\n",
       "      <td>posted 3 days ago</td>\n",
       "      <td>computing graduates it support an innovative market leader are looking to find a graduate it support ideal candidate it related degree excellent communication skills for are looking for a new challenge within it support and are keen to find out more computing graduates it support an innovative market leader are looking to find a</td>\n",
       "      <td>computing graduates innovative market leader graduate degree communication challenge keen computing graduates innovative market leader</td>\n",
       "      <td>computing graduates it support</td>\n",
       "    </tr>\n",
       "  </tbody>\n",
       "</table>\n",
       "</div>"
      ],
      "text/plain": [
       "                                                          Jobtitle  \\\n",
       "0  it support technician windows os it microsoft logistics freight   \n",
       "1                                               it project support   \n",
       "2                                   computing graduates it support   \n",
       "\n",
       "              Location                 Salary                   Company  \\\n",
       "0  west sussex horsham  20000 22000 per annum  additional resources ltd   \n",
       "1         coventry cv1  30000 32000 per annum    hamlin knight coventry   \n",
       "2          gu21 woking  20000 27000 per annum                informatiq   \n",
       "\n",
       "         Date_posted  \\\n",
       "0          yesterday   \n",
       "1          yesterday   \n",
       "2  posted 3 days ago   \n",
       "\n",
       "                                                                                                                                                                                                                                                                                                                              Job_description  \\\n",
       "0                              it support technician logistics freight salary 20 22k key words it the role the it support technician must be able to communicate with staff at all levels keeping up to date on developments within the it department all other reasonable it support technician logistics freight salary 20 22k key words it   \n",
       "1                                                                knight is currently recruiting for an experienced it project support for a market leading it project support to provide it system administration support and local development job knight is currently recruiting for an experienced it project support for a market leading   \n",
       "2  computing graduates it support an innovative market leader are looking to find a graduate it support ideal candidate it related degree excellent communication skills for are looking for a new challenge within it support and are keen to find out more computing graduates it support an innovative market leader are looking to find a   \n",
       "\n",
       "                                                                                                                                                          Job_description_min  \\\n",
       "0  technician logistics freight   key words technician must communicate staff levels keeping date developments department reasonable technician logistics freight   key words   \n",
       "1                                                                                                         knight market system administration local development knight market   \n",
       "2                                      computing graduates innovative market leader graduate degree communication challenge keen computing graduates innovative market leader   \n",
       "\n",
       "                                                      Jobtitle_min  \n",
       "0  it support technician windows os it microsoft logistics freight  \n",
       "1                                               it project support  \n",
       "2                                   computing graduates it support  "
      ]
     },
     "execution_count": 141,
     "metadata": {},
     "output_type": "execute_result"
    }
   ],
   "source": [
    "B.head(3)"
   ]
  },
  {
   "cell_type": "markdown",
   "metadata": {},
   "source": [
    "# Potential wrangling developments "
   ]
  },
  {
   "cell_type": "code",
   "execution_count": 34,
   "metadata": {
    "collapsed": true
   },
   "outputs": [],
   "source": [
    "#could feed through more manipulation:\n",
    "#such as obtaining an average number for Salary \n",
    "#remove stop words \n",
    "#standard format Location \n",
    "#create a real date variable \n",
    "#company lookup \n",
    "#LMI for all, can guess soc, api for the universal job match "
   ]
  },
  {
   "cell_type": "markdown",
   "metadata": {},
   "source": [
    "# Output "
   ]
  },
  {
   "cell_type": "code",
   "execution_count": 36,
   "metadata": {
    "collapsed": true
   },
   "outputs": [],
   "source": [
    "B.to_csv(\"total_job_wrangle.csv\")"
   ]
  }
 ],
 "metadata": {
  "kernelspec": {
   "display_name": "Python 2",
   "language": "python",
   "name": "python2"
  },
  "language_info": {
   "codemirror_mode": {
    "name": "ipython",
    "version": 2
   },
   "file_extension": ".py",
   "mimetype": "text/x-python",
   "name": "python",
   "nbconvert_exporter": "python",
   "pygments_lexer": "ipython2",
   "version": "2.7.12"
  }
 },
 "nbformat": 4,
 "nbformat_minor": 0
}
